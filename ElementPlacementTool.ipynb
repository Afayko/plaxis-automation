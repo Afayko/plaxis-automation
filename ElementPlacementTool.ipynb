{
 "cells": [
  {
   "cell_type": "code",
   "execution_count": null,
   "id": "bf237a5a",
   "metadata": {},
   "outputs": [],
   "source": [
    "import csv\n",
    "from plxscripting.easy import *\n",
    "s_i, g_i = new_server('localhost', 10000, password='!x@V#eZZ~tSVE?Y4')\n",
    "\n",
    "d  = 6  # diameter for EVERY row (ft)\n",
    "z  = 9  # Top of element Elevation                  \n",
    "axis1, axis2 = (1, 0, 0), (0, 1, 0)\n",
    "\n",
    "with open(r'C:\\Users\\adam.fayko\\OneDrive - VINCI Construction\\Desktop\\BWC\\centres.csv', newline='') as fh:\n",
    "    for i, row in enumerate(csv.DictReader(fh), 1):\n",
    "        cx = float(row['X'])\n",
    "        cy = float(row['Y'])\n",
    "        p0 = (cx, cy, z)\n",
    "\n",
    "        poly = g_i.polycurve(\n",
    "                 p0, axis1, axis2,\n",
    "                 \"Arc\", 0, 180, d/2,\n",
    "                 \"Arc\", 0, 180, d/2)[0]\n",
    "\n",
    "        g_i.set(poly.Offset2, -d/2)          # Offset2 = –diameter/2\n",
    "        surf_list = g_i.surface(poly)        # build surface\n",
    "if surf_list:                                # skip if PLAXIS returns []\n",
    "    surf = surf_list[0]"
   ]
  }
 ],
 "metadata": {
  "kernelspec": {
   "display_name": "Python 3",
   "language": "python",
   "name": "python3"
  },
  "language_info": {
   "codemirror_mode": {
    "name": "ipython",
    "version": 3
   },
   "file_extension": ".py",
   "mimetype": "text/x-python",
   "name": "python",
   "nbconvert_exporter": "python",
   "pygments_lexer": "ipython3",
   "version": "3.12.5"
  }
 },
 "nbformat": 4,
 "nbformat_minor": 5
}
